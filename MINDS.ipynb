{
 "cells": [
  {
   "cell_type": "markdown",
   "metadata": {},
   "source": [
    "# MinION based Detection Software {MINDS} \n",
    "### jupyter notebook based edition"
   ]
  },
  {
   "cell_type": "code",
   "execution_count": 1,
   "metadata": {},
   "outputs": [],
   "source": [
    "%matplotlib inline\n",
    "import matplotlib.pyplot as plt\n",
    "import os\n",
    "import numpy as np\n",
    "import pandas as pd\n",
    "import seaborn as sns\n",
    "import csv"
   ]
  },
  {
   "cell_type": "markdown",
   "metadata": {},
   "source": [
    "#### Display PyQT widget to enable the end user to select a fastq file"
   ]
  },
  {
   "cell_type": "code",
   "execution_count": 2,
   "metadata": {},
   "outputs": [],
   "source": [
    "%gui qt\n",
    "\n",
    "from PyQt5.QtWidgets import QFileDialog\n",
    "\n",
    "def gui_fname(dir=None):\n",
    "    \"\"\"Select a file via a dialog and return the file name.\"\"\"\n",
    "    if dir is None: dir ='./'\n",
    "    fname = QFileDialog.getOpenFileName(None, \"Select fastq file...\", \n",
    "                dir, filter=\"All files (*);; fastq Files (*.fastq)\")\n",
    "    return fname[0]"
   ]
  },
  {
   "cell_type": "code",
   "execution_count": 3,
   "metadata": {},
   "outputs": [
    {
     "name": "stdout",
     "output_type": "stream",
     "text": [
      "File selected:/home/samir/projects/MINDS/fastq/EColi_filtered.fq\n"
     ]
    }
   ],
   "source": [
    "# fastq file to be analyzed\n",
    "fastq_file=gui_fname('')\n",
    "print(\"File selected:\"+fastq_file)"
   ]
  },
  {
   "cell_type": "code",
   "execution_count": 4,
   "metadata": {},
   "outputs": [
    {
     "name": "stdout",
     "output_type": "stream",
     "text": [
      "EColi_filtered\n"
     ]
    }
   ],
   "source": [
    "samplename_w_ext = os.path.basename(fastq_file)\n",
    "samplename, file_extension = os.path.splitext(samplename_w_ext)\n",
    "print(samplename)"
   ]
  },
  {
   "cell_type": "markdown",
   "metadata": {},
   "source": [
    "### Make sure you have downloaded the pre-built centrifuge indexes as mentioned in README\n",
    "### Copy / move the pre-built indexes (cf files) into the centrifuge_db folder\n",
    "### Edit the cell below to reflect the path and name"
   ]
  },
  {
   "cell_type": "code",
   "execution_count": 5,
   "metadata": {},
   "outputs": [],
   "source": [
    "# Is there cf files in the centrifuge_db folder?\n",
    "# centrifuge database file\n",
    "\n",
    "db_file=\"~/projects/MINDS/centrifuge_db/p_compressed_h_v/p_compressed+h+v\"\n"
   ]
  },
  {
   "cell_type": "code",
   "execution_count": 6,
   "metadata": {},
   "outputs": [
    {
     "name": "stdout",
     "output_type": "stream",
     "text": [
      "~/projects/MINDS/centrifuge_rslts/EColi_filtered_report.txt\n"
     ]
    }
   ],
   "source": [
    "# input files on macOS have differet path so be mindful of that.\n",
    "# Results file has all the reads info & has 8 columns\n",
    "# Report file has the centrfuge report and has 7 columns\n",
    "\n",
    "fldresults='~/projects/MINDS/centrifuge_rslts/'\n",
    "Resultfile=fldresults+samplename+'_results.txt'\n",
    "Reportfile=fldresults+samplename+'_report.txt'\n",
    "print(Reportfile)\n"
   ]
  },
  {
   "cell_type": "code",
   "execution_count": 7,
   "metadata": {
    "scrolled": true
   },
   "outputs": [
    {
     "name": "stdout",
     "output_type": "stream",
     "text": [
      "Time loading forward index: 00:00:00\n",
      "Time loading reference: 00:00:00\n",
      "Multiseed full-index search: 00:12:31\n",
      "Time searching: 00:12:31\n",
      "report file /home/samir/projects/MINDS/centrifuge_rslts/EColi_filtered_report.txt\n",
      "Number of iterations in EM algorithm: 0\n",
      "Probability diff. (P - P_prev) in the last iteration: 0\n",
      "Calculating abundance: 00:00:00\n",
      "Overall time: 00:12:42\n"
     ]
    }
   ],
   "source": [
    "%timeit\n",
    "! centrifuge -x {db_file} -q {fastq_file} -t -p 8 -S {Resultfile} --report-file {Reportfile} --exclude-taxids 9606 --mm \n",
    "# exclude human hits from the search."
   ]
  },
  {
   "cell_type": "code",
   "execution_count": 8,
   "metadata": {},
   "outputs": [],
   "source": [
    "# output files are defined here\n",
    "\n",
    "ofile=''\n",
    "file2=\"_MINDS_Report.csv\"\n",
    "\n",
    "fig1=\"_MINDS-HeatMap.png\"\n",
    "fig2=\"_MINDS-PieChart.png\"\n",
    "fig3=\"_MINDS-Histogram.png\"\n",
    "\n",
    "# dataframes are defined here\n",
    "dfResult=pd.read_csv(Resultfile,sep=\"\\t\")\n",
    "dfReport=pd.read_csv(Reportfile,sep=\"\\t\")"
   ]
  },
  {
   "cell_type": "code",
   "execution_count": 9,
   "metadata": {},
   "outputs": [],
   "source": [
    "# Extract the sample & path information here\n",
    "from os.path import expanduser\n",
    "\n",
    "Sample=os.path.basename(Reportfile)\n",
    "Sample=os.path.splitext(Sample)[0]\n",
    "S_path=os.path.dirname(Reportfile)\n",
    "S_path=expanduser(S_path)\n",
    "#print(S_path)\n",
    "# compute the abundance\n",
    "dfReport['abundance']= dfReport['numUniqueReads']*100 / dfReport['numReads']\n",
    "# count the number of unclassified reads in the dfResult\n",
    "dfUnC=dfResult[dfResult.taxID ==0]\n",
    "unc_reads=dfUnC.shape[0]\n",
    "Unc_Results=dfResult.groupby('readID').size()\n"
   ]
  },
  {
   "cell_type": "code",
   "execution_count": 10,
   "metadata": {},
   "outputs": [
    {
     "name": "stdout",
     "output_type": "stream",
     "text": [
      "Your analyzing: EColi_filtered_report\n",
      "Folder information: /home/samir/projects/MINDS/centrifuge_rslts\n",
      "Number of reads mapped: 87793\n",
      "Total reads: 87619\n",
      "Minimum number of reads: 88.0\n",
      "Duplicate reads: 174\n",
      "Sample Threshold cutoff: 0.007973300832640416\n"
     ]
    }
   ],
   "source": [
    "count_reads= dfResult.shape[0]  # gives number of row count from dfResult\n",
    "Unique_reads=dfResult.groupby(['readID']).size().count()\n",
    "# minimum reads the organims should have in the dfReport\n",
    "mini_reads =round((Unique_reads /(10*100))) # Lower this number from 10 if your output results are too strict\n",
    "print(\"Your analyzing:\",Sample)\n",
    "print(\"Folder information:\",S_path)\n",
    "print(\"Number of reads mapped:\", count_reads)\n",
    "print(\"Total reads:\",Unique_reads)\n",
    "print(\"Minimum number of reads:\",mini_reads)\n",
    "print(\"Duplicate reads:\",count_reads-Unique_reads)\n",
    "# compute threshold\n",
    "thrshold=(unc_reads/count_reads)*100\n",
    "print(\"Sample Threshold cutoff:\",thrshold)"
   ]
  },
  {
   "cell_type": "code",
   "execution_count": 11,
   "metadata": {},
   "outputs": [],
   "source": [
    "# dfReport.numReads > 0 will provide all reads\n",
    "# you can filter them by using dfReports > mini_reads instead of dfReports >0.\n",
    "# uncomment or comment the line in this cell\n",
    "#dfData=dfReport.loc[dfReport.numReads > mini_reads ,['name','taxID','taxRank','genomeSize','numReads','numUniqueReads','abundance']]\n",
    "dfData=dfReport.loc[dfReport.numReads > 0 ,['name','taxID','taxRank','genomeSize','numReads','numUniqueReads','abundance']]"
   ]
  },
  {
   "cell_type": "code",
   "execution_count": 12,
   "metadata": {},
   "outputs": [],
   "source": [
    "# define the filters and cutoff here, edit as neccessary\n",
    "dfData=dfData.loc[dfData.taxRank =='species'] # default species\n",
    "dfData=dfData.loc[dfData.numUniqueReads>=15] # default 5\n",
    "dfData=dfData.loc[dfData.abundance > 80] # default 80"
   ]
  },
  {
   "cell_type": "code",
   "execution_count": 13,
   "metadata": {},
   "outputs": [
    {
     "name": "stdout",
     "output_type": "stream",
     "text": [
      "Found total number of organism: 1\n"
     ]
    }
   ],
   "source": [
    "count_results=dfData.shape[0]\n",
    "print(\"Found total number of organism:\",count_results)"
   ]
  },
  {
   "cell_type": "code",
   "execution_count": 14,
   "metadata": {},
   "outputs": [],
   "source": [
    "# Compute abundance score for unique reads\n",
    "\n",
    "dfData=dfData.assign(reads_abundance= dfData['numUniqueReads']*100 / Unique_reads)\n",
    "dfData2=dfData[[\"name\",\"taxID\",\"abundance\",\"reads_abundance\"]]\n",
    "dfResult1=dfResult.groupby(\"taxID\").agg({'seqID':'size','score':'mean'}).reset_index()\n",
    "dfResult1=dfResult1.assign(score_abundance= dfResult1['seqID'] / dfResult1['score'])\n",
    "\n",
    "dfData3=pd.merge(dfData2,dfResult1,left_on='taxID', right_on='taxID')\n",
    "dfData3=dfData3[[\"name\",\"taxID\",\"abundance\",\"reads_abundance\",\"score_abundance\"]]\n"
   ]
  },
  {
   "cell_type": "code",
   "execution_count": 15,
   "metadata": {},
   "outputs": [
    {
     "data": {
      "text/html": [
       "<div>\n",
       "<style scoped>\n",
       "    .dataframe tbody tr th:only-of-type {\n",
       "        vertical-align: middle;\n",
       "    }\n",
       "\n",
       "    .dataframe tbody tr th {\n",
       "        vertical-align: top;\n",
       "    }\n",
       "\n",
       "    .dataframe thead th {\n",
       "        text-align: right;\n",
       "    }\n",
       "</style>\n",
       "<table border=\"1\" class=\"dataframe\">\n",
       "  <thead>\n",
       "    <tr style=\"text-align: right;\">\n",
       "      <th></th>\n",
       "      <th>name</th>\n",
       "      <th>taxID</th>\n",
       "      <th>abundance</th>\n",
       "      <th>reads_abundance</th>\n",
       "      <th>grades</th>\n",
       "    </tr>\n",
       "  </thead>\n",
       "  <tbody>\n",
       "    <tr>\n",
       "      <th>0</th>\n",
       "      <td>Escherichia coli</td>\n",
       "      <td>562</td>\n",
       "      <td>99.897057</td>\n",
       "      <td>99.678152</td>\n",
       "      <td>A</td>\n",
       "    </tr>\n",
       "  </tbody>\n",
       "</table>\n",
       "</div>"
      ],
      "text/plain": [
       "               name  taxID  abundance  reads_abundance grades\n",
       "0  Escherichia coli    562  99.897057        99.678152      A"
      ]
     },
     "execution_count": 15,
     "metadata": {},
     "output_type": "execute_result"
    }
   ],
   "source": [
    "# Grade the abundance here, Report card is made in this cell\n",
    "grades = []\n",
    "\n",
    "# For each row in the column,\n",
    "for row in dfData3['abundance']:\n",
    "    # if more than a value,\n",
    "    if row >= 90:\n",
    "        # Append a letter grade\n",
    "        grades.append('A')\n",
    "    elif row >= 80:\n",
    "        # Append a letter grade\n",
    "        grades.append('B')\n",
    "    # else, if more than a value,\n",
    "    elif row >= 70:\n",
    "        # Append a letter grade\n",
    "        grades.append('C')\n",
    "    elif row >= 60:\n",
    "        # Append a letter grade\n",
    "        grades.append('D')\n",
    "    # otherwise,\n",
    "    else:\n",
    "        # Append a failing grade\n",
    "        grades.append('F')\n",
    "        \n",
    "# Create a column from the list\n",
    "dfData3['grades'] = grades\n",
    "dfData3.drop('score_abundance', axis=1, inplace=True)\n",
    "dfData3.sort_values('abundance',ascending=False)\n",
    "#\"Save the Report\"\n",
    "ofile=S_path+\"/\"+Sample+file2\n",
    "\n",
    "dfData3.to_csv(ofile,sep=',',index=False)\n",
    "dfData3.sort_values(\"abundance\",ascending=False)"
   ]
  },
  {
   "cell_type": "code",
   "execution_count": 16,
   "metadata": {},
   "outputs": [
    {
     "name": "stdout",
     "output_type": "stream",
     "text": [
      "/home/samir/projects/MINDS/centrifuge_rslts/EColi_filtered_report_MINDS-HeatMap.png\n"
     ]
    },
    {
     "data": {
      "image/png": "[encoded data removed]",
      "text/plain": [
       "<Figure size 1080x720 with 2 Axes>"
      ]
     },
     "metadata": {},
     "output_type": "display_data"
    }
   ],
   "source": [
    "#plot the heatmap for organims to abundance\n",
    "\n",
    "piv = pd.pivot_table(dfData3, values=\"abundance\", columns=[\"name\"], fill_value=0)\n",
    "\n",
    "#plot pivot table as heatmap using seaborn\n",
    "sns.set(font_scale=1.4)\n",
    "plt.figure(figsize=(15, 10))\n",
    "ax = sns.heatmap(piv, square=True,xticklabels=1,annot_kws={\"size\": 16})\n",
    "plt.setp( ax.yaxis.get_majorticklabels(), rotation=90 )\n",
    "plt.tight_layout()\n",
    "\n",
    "#\"Save the Report\"\n",
    "Myfig1=S_path+\"/\"+Sample+fig1\n",
    "print(Myfig1)\n",
    "plt.savefig(Myfig1)\n",
    "plt.show()\n",
    "plt.close()"
   ]
  },
  {
   "cell_type": "code",
   "execution_count": 17,
   "metadata": {},
   "outputs": [],
   "source": [
    "dfData3.to_csv(\"MINDS_results.csv\",index=False,encoding='utf-8')"
   ]
  },
  {
   "cell_type": "code",
   "execution_count": 18,
   "metadata": {},
   "outputs": [
    {
     "data": {
      "image/png": "[encoded data removed]",
      "text/plain": [
       "<Figure size 1080x1080 with 1 Axes>"
      ]
     },
     "metadata": {},
     "output_type": "display_data"
    }
   ],
   "source": [
    "plot = dfData3.plot.pie(y='abundance', labels=dfData3[\"name\"],figsize=(15, 15),legend=False)\n",
    "\n",
    "plt.tight_layout()\n",
    "#\"Save the Report\"\n",
    "Myfig2=S_path+\"/\"+Sample+fig2\n",
    "plt.savefig(Myfig2)\n",
    "plt.show()"
   ]
  },
  {
   "cell_type": "code",
   "execution_count": 19,
   "metadata": {},
   "outputs": [],
   "source": [
    "dfData3.sort_values('name',axis=0,ascending=False,inplace=True)"
   ]
  },
  {
   "cell_type": "code",
   "execution_count": 20,
   "metadata": {},
   "outputs": [
    {
     "data": {
      "image/png": "[encoded data removed]",
      "text/plain": [
       "<Figure size 1080x2160 with 1 Axes>"
      ]
     },
     "metadata": {},
     "output_type": "display_data"
    }
   ],
   "source": [
    "organism=dfData3['name']\n",
    "y_pos=np.arange(len(organism))\n",
    "howmuch=dfData3['abundance']\n",
    "\n",
    "plt.rcParams[\"axes.facecolor\"]=\"black\"\n",
    "plt.rcParams[\"figure.facecolor\"]=\"w\"\n",
    "plt.figure(figsize=(15,30))\n",
    "\n",
    "#Change the color of bar based on the grade\"\n",
    "plt.barh(y_pos,howmuch,alpha=0.9,color=np.where(dfData3['abundance']>60,'g','r'))\n",
    "plt.yticks(y_pos,organism)\n",
    "plt.xlabel('abundance')\n",
    "plt.title(Resultfile)\n",
    "plt.tight_layout()\n",
    "\n",
    "#\"Save the Report\"\n",
    "Myfig3=S_path+\"/\"+Sample+fig3\n",
    "plt.savefig(Myfig3)\n",
    "plt.show()"
   ]
  },
  {
   "cell_type": "code",
   "execution_count": 21,
   "metadata": {},
   "outputs": [],
   "source": [
    "## ReportLab to generate summary report\n",
    "from reportlab.platypus import SimpleDocTemplate,Image\n",
    "from reportlab.platypus import Paragraph,Table,TableStyle,Spacer, PageBreak\n",
    "from reportlab.lib.styles import getSampleStyleSheet\n",
    "from reportlab.lib import colors\n",
    "from reportlab.lib.units import inch, cm\n",
    "from io import BytesIO\n",
    "pdf_buffer = S_path+'/'+Sample+'_MINDS_Report.pdf'\n",
    "my_doc = SimpleDocTemplate(pdf_buffer)\n",
    "flowables = []\n",
    "\n",
    "my_doc.build(flowables)\n",
    "\n",
    "sample_style_sheet=getSampleStyleSheet()\n",
    "paragraph_1 = Paragraph(\"MINDS Summary Report\", sample_style_sheet['Heading1'])\n",
    "paragraph_2 = Paragraph(\"Sample:\"+samplename,sample_style_sheet['Heading2'])\n",
    "paragraph_3=Paragraph(\"Total reads: \"+str(Unique_reads)+\"; Minimum number of reads: \"+str(mini_reads).split('.')[0]+\"; Sample Threshold cutoff(%): \"+str(thrshold).split('.')[0],sample_style_sheet['BodyText'])\n",
    "\n",
    "flowables.append(paragraph_1)\n",
    "flowables.append(paragraph_2)\n",
    "flowables.append(paragraph_3)\n",
    "\n",
    "# Images are inserted here\n",
    "\n",
    "histogram = Image(Myfig3)\n",
    "histogram.drawHeight =  5.5*inch\n",
    "histogram.drawWidth = 4.5*inch\n",
    "\n",
    "piechart= Image(Myfig2)\n",
    "piechart.drawHeight =  3.5*inch\n",
    "piechart.drawWidth = 3.5*inch\n",
    "\n",
    "heatmap= Image(Myfig1)\n",
    "heatmap.drawHeight =  5.5*inch\n",
    "heatmap.drawWidth = 4.5*inch\n",
    "\n",
    "# Read the csv file and print it into the report\n",
    "\n",
    "#PDF document layout\n",
    "table_style = TableStyle([('ALIGN',(1,1),(-2,-2),'RIGHT'),\n",
    "                       ('TEXTCOLOR',(1,1),(-2,-2),colors.red),\n",
    "                       ('VALIGN',(0,0),(0,-1),'TOP'),\n",
    "                       ('TEXTCOLOR',(0,0),(0,-1),colors.blue),\n",
    "                       ('ALIGN',(0,-1),(-1,-1),'CENTER'),\n",
    "                       ('VALIGN',(0,-1),(-1,-1),'MIDDLE'),\n",
    "                       ('TEXTCOLOR',(0,-1),(-1,-1),colors.green),\n",
    "                       ('INNERGRID', (0,0), (-1,-1), 0.25, colors.black),\n",
    "                       ('BOX', (0,0), (-1,-1), 0.25, colors.black),\n",
    "                       ])\n",
    "styles = getSampleStyleSheet() \n",
    "styleNormal = styles['Normal']\n",
    "styleHeading = styles['Heading1']\n",
    "styleHeading2 = styles['Heading2'] \n",
    "styleHeading.alignment = 1 # centre text (TA_CENTRE) \n",
    "\n",
    "#Configure style and word wrap\n",
    "s = getSampleStyleSheet()\n",
    "s = s[\"BodyText\"]\n",
    "s.wordWrap = 'CJK'\n",
    "\n",
    "# File that must be written to report\n",
    "with open (ofile, 'r') as csvfile:\n",
    "    reader = csv.reader(csvfile)\n",
    "    lista = list(reader)\n",
    "\n",
    "headers = lista[0]\n",
    "\n",
    "conteo = 1\n",
    "\n",
    "for numRecord in range(1,len(lista)):\n",
    "\n",
    "    record1 = lista[numRecord]\n",
    "\n",
    "    data = list()\n",
    "    emptyRecords = list()\n",
    "    records = list()\n",
    "    header = list()\n",
    "\n",
    "    countRecords = 0\n",
    "\n",
    "    for line in record1:\n",
    "\n",
    "        if line == '':\n",
    "            emptyRecords.append(line)           \n",
    "        else:\n",
    "            records.append(line)\n",
    "            header.append(headers[countRecords])\n",
    "\n",
    "            data.append([str(headers[countRecords]), str(line)])\n",
    "\n",
    "        countRecords = countRecords + 1\n",
    "    data2 = [[Paragraph(cell, s) for cell in row] for row in data]\n",
    "    t = Table(data2)\n",
    "    t.setStyle(table_style)\n",
    "    flowables.append(t)\n",
    "#-------------------------------------------------------\n",
    "\n",
    "flowables.append(Spacer(inch, .25*inch))\n",
    "flowables.append(heatmap)\n",
    "flowables.append(piechart)\n",
    "flowables.append(histogram)\n",
    "\n",
    "my_doc.build(flowables)"
   ]
  },
  {
   "cell_type": "code",
   "execution_count": 24,
   "metadata": {},
   "outputs": [
    {
     "name": "stdout",
     "output_type": "stream",
     "text": [
      "Analysis completed & Report generated in the folder  /home/samir/projects/MINDS/centrifuge_rslts\n"
     ]
    }
   ],
   "source": [
    "print(\"Analysis completed & Report generated in the folder \",S_path)"
   ]
  },
  {
   "cell_type": "code",
   "execution_count": null,
   "metadata": {},
   "outputs": [],
   "source": []
  }
 ],
 "metadata": {
  "kernelspec": {
   "display_name": "Python 3",
   "language": "python",
   "name": "python3"
  },
  "language_info": {
   "codemirror_mode": {
    "name": "ipython",
    "version": 3
   },
   "file_extension": ".py",
   "mimetype": "text/x-python",
   "name": "python",
   "nbconvert_exporter": "python",
   "pygments_lexer": "ipython3",
   "version": "3.6.9"
  }
 },
 "nbformat": 4,
 "nbformat_minor": 2
}
